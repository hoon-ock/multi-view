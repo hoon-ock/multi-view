{
 "cells": [
  {
   "cell_type": "code",
   "execution_count": 1,
   "metadata": {},
   "outputs": [],
   "source": [
    "import numpy as np\n",
    "import pandas as pd\n",
    "import os, pickle\n",
    "\n",
    "from sklearn.manifold import TSNE\n",
    "import pandas as pd\n",
    "import matplotlib.pyplot as plt\n",
    "import seaborn as sns"
   ]
  },
  {
   "cell_type": "code",
   "execution_count": 4,
   "metadata": {},
   "outputs": [],
   "source": [
    "mapping = pd.read_pickle('/home/jovyan/shared-scratch/jhoon/ocp2023/oc20dense_metadata/oc20dense_mapping.pkl')"
   ]
  },
  {
   "cell_type": "code",
   "execution_count": 2,
   "metadata": {},
   "outputs": [],
   "source": [
    "model = 'gnoc'\n",
    "data_path = f'/home/jovyan/shared-scratch/jhoon/ocp2023/clip_data/oc20dense_eval_{model}_relaxed.pkl'\n",
    "df_data = pd.read_pickle(data_path)"
   ]
  },
  {
   "cell_type": "markdown",
   "metadata": {},
   "source": [
    "# Adsorbate"
   ]
  },
  {
   "cell_type": "code",
   "execution_count": 8,
   "metadata": {},
   "outputs": [],
   "source": [
    "sid_list, ads_list = [], []\n",
    "for i in range(len(df_data)):\n",
    "    sid = df_data['id'].iloc[i].split('_')[0]\n",
    "    ads = mapping[int(sid)]['adsorbate']\n",
    "    sid_list.append(sid)\n",
    "    ads_list.append(ads)\n",
    "df_data['sid'] = sid_list\n",
    "df_data['ads'] = ads_list\n",
    "df_data = df_data.drop(columns=['text', 'chg_emb'])"
   ]
  },
  {
   "cell_type": "code",
   "execution_count": 21,
   "metadata": {},
   "outputs": [],
   "source": [
    "def classify_adsorbate(adsorbate):\n",
    "    \"\"\"\n",
    "    Classify adsorbates based on the number of C and N atoms.\n",
    "    \"\"\"\n",
    "    c_count = adsorbate.count('C')\n",
    "    n_count = adsorbate.count('N')\n",
    "\n",
    "    if n_count == 2:\n",
    "        return 'N2'   # With 2 N\n",
    "    elif n_count == 1:\n",
    "        return 'N1'   # With 1 N\n",
    "    elif c_count == 2:\n",
    "        return 'C2'   # With 2 C\n",
    "    elif c_count == 1:\n",
    "        return 'C1'   # With 1 C\n",
    "    elif c_count == 0 and n_count == 0:\n",
    "        return 'O&H'  # Without C & N\n",
    "    else:\n",
    "        return 'Other' # Other compositions"
   ]
  },
  {
   "cell_type": "code",
   "execution_count": 22,
   "metadata": {},
   "outputs": [],
   "source": [
    "df_data['category'] = df_data['ads'].apply(classify_adsorbate)"
   ]
  },
  {
   "cell_type": "code",
   "execution_count": 23,
   "metadata": {},
   "outputs": [
    {
     "data": {
      "text/plain": [
       "C2     4892\n",
       "C1     4507\n",
       "O&H    1483\n",
       "N2      626\n",
       "Name: category, dtype: int64"
      ]
     },
     "execution_count": 23,
     "metadata": {},
     "output_type": "execute_result"
    }
   ],
   "source": [
    "category_counts = df_data['category'].value_counts()\n",
    "\n",
    "category_counts"
   ]
  },
  {
   "cell_type": "code",
   "execution_count": 19,
   "metadata": {},
   "outputs": [
    {
     "data": {
      "text/html": [
       "<div>\n",
       "<style scoped>\n",
       "    .dataframe tbody tr th:only-of-type {\n",
       "        vertical-align: middle;\n",
       "    }\n",
       "\n",
       "    .dataframe tbody tr th {\n",
       "        vertical-align: top;\n",
       "    }\n",
       "\n",
       "    .dataframe thead th {\n",
       "        text-align: right;\n",
       "    }\n",
       "</style>\n",
       "<table border=\"1\" class=\"dataframe\">\n",
       "  <thead>\n",
       "    <tr style=\"text-align: right;\">\n",
       "      <th></th>\n",
       "      <th>id</th>\n",
       "      <th>target</th>\n",
       "      <th>sid</th>\n",
       "      <th>ads</th>\n",
       "      <th>category</th>\n",
       "    </tr>\n",
       "  </thead>\n",
       "  <tbody>\n",
       "    <tr>\n",
       "      <th>0</th>\n",
       "      <td>85487_-1</td>\n",
       "      <td>-0.559899</td>\n",
       "      <td>85487</td>\n",
       "      <td>*CH2*O</td>\n",
       "      <td>C1</td>\n",
       "    </tr>\n",
       "    <tr>\n",
       "      <th>1</th>\n",
       "      <td>39118_110</td>\n",
       "      <td>-1.130786</td>\n",
       "      <td>39118</td>\n",
       "      <td>*O</td>\n",
       "      <td>O&amp;H</td>\n",
       "    </tr>\n",
       "    <tr>\n",
       "      <th>2</th>\n",
       "      <td>2797_-1</td>\n",
       "      <td>-1.337591</td>\n",
       "      <td>2797</td>\n",
       "      <td>*OCH3</td>\n",
       "      <td>C1</td>\n",
       "    </tr>\n",
       "    <tr>\n",
       "      <th>3</th>\n",
       "      <td>64221_170</td>\n",
       "      <td>0.885938</td>\n",
       "      <td>64221</td>\n",
       "      <td>*CH</td>\n",
       "      <td>C1</td>\n",
       "    </tr>\n",
       "    <tr>\n",
       "      <th>4</th>\n",
       "      <td>44017_160</td>\n",
       "      <td>-2.090978</td>\n",
       "      <td>44017</td>\n",
       "      <td>*CH</td>\n",
       "      <td>C1</td>\n",
       "    </tr>\n",
       "    <tr>\n",
       "      <th>...</th>\n",
       "      <td>...</td>\n",
       "      <td>...</td>\n",
       "      <td>...</td>\n",
       "      <td>...</td>\n",
       "      <td>...</td>\n",
       "    </tr>\n",
       "    <tr>\n",
       "      <th>11503</th>\n",
       "      <td>55536_186</td>\n",
       "      <td>-2.349694</td>\n",
       "      <td>55536</td>\n",
       "      <td>*CH3</td>\n",
       "      <td>C1</td>\n",
       "    </tr>\n",
       "    <tr>\n",
       "      <th>11504</th>\n",
       "      <td>84011_298</td>\n",
       "      <td>-2.974431</td>\n",
       "      <td>84011</td>\n",
       "      <td>*CHCO</td>\n",
       "      <td>C2</td>\n",
       "    </tr>\n",
       "    <tr>\n",
       "      <th>11505</th>\n",
       "      <td>64542_152</td>\n",
       "      <td>0.239314</td>\n",
       "      <td>64542</td>\n",
       "      <td>*CH</td>\n",
       "      <td>C1</td>\n",
       "    </tr>\n",
       "    <tr>\n",
       "      <th>11506</th>\n",
       "      <td>71806_221</td>\n",
       "      <td>-1.262554</td>\n",
       "      <td>71806</td>\n",
       "      <td>*CHOH</td>\n",
       "      <td>C1</td>\n",
       "    </tr>\n",
       "    <tr>\n",
       "      <th>11507</th>\n",
       "      <td>13194_211</td>\n",
       "      <td>0.438572</td>\n",
       "      <td>13194</td>\n",
       "      <td>*COCHO</td>\n",
       "      <td>C2</td>\n",
       "    </tr>\n",
       "  </tbody>\n",
       "</table>\n",
       "<p>11508 rows × 5 columns</p>\n",
       "</div>"
      ],
      "text/plain": [
       "              id    target    sid     ads category\n",
       "0       85487_-1 -0.559899  85487  *CH2*O       C1\n",
       "1      39118_110 -1.130786  39118      *O      O&H\n",
       "2        2797_-1 -1.337591   2797   *OCH3       C1\n",
       "3      64221_170  0.885938  64221     *CH       C1\n",
       "4      44017_160 -2.090978  44017     *CH       C1\n",
       "...          ...       ...    ...     ...      ...\n",
       "11503  55536_186 -2.349694  55536    *CH3       C1\n",
       "11504  84011_298 -2.974431  84011   *CHCO       C2\n",
       "11505  64542_152  0.239314  64542     *CH       C1\n",
       "11506  71806_221 -1.262554  71806   *CHOH       C1\n",
       "11507  13194_211  0.438572  13194  *COCHO       C2\n",
       "\n",
       "[11508 rows x 5 columns]"
      ]
     },
     "execution_count": 19,
     "metadata": {},
     "output_type": "execute_result"
    }
   ],
   "source": [
    "df_data"
   ]
  },
  {
   "cell_type": "code",
   "execution_count": 10,
   "metadata": {},
   "outputs": [
    {
     "data": {
      "text/html": [
       "<div>\n",
       "<style scoped>\n",
       "    .dataframe tbody tr th:only-of-type {\n",
       "        vertical-align: middle;\n",
       "    }\n",
       "\n",
       "    .dataframe tbody tr th {\n",
       "        vertical-align: top;\n",
       "    }\n",
       "\n",
       "    .dataframe thead th {\n",
       "        text-align: right;\n",
       "    }\n",
       "</style>\n",
       "<table border=\"1\" class=\"dataframe\">\n",
       "  <thead>\n",
       "    <tr style=\"text-align: right;\">\n",
       "      <th></th>\n",
       "      <th>id</th>\n",
       "      <th>target</th>\n",
       "      <th>sid</th>\n",
       "      <th>ads</th>\n",
       "    </tr>\n",
       "  </thead>\n",
       "  <tbody>\n",
       "    <tr>\n",
       "      <th>7213</th>\n",
       "      <td>0_100</td>\n",
       "      <td>0.172517</td>\n",
       "      <td>0</td>\n",
       "      <td>*C*C</td>\n",
       "    </tr>\n",
       "    <tr>\n",
       "      <th>8628</th>\n",
       "      <td>10005_122</td>\n",
       "      <td>-0.995634</td>\n",
       "      <td>10005</td>\n",
       "      <td>*CHOH</td>\n",
       "    </tr>\n",
       "    <tr>\n",
       "      <th>1816</th>\n",
       "      <td>10009_220</td>\n",
       "      <td>-3.775969</td>\n",
       "      <td>10009</td>\n",
       "      <td>*NH2N(CH3)2</td>\n",
       "    </tr>\n",
       "    <tr>\n",
       "      <th>3377</th>\n",
       "      <td>10014_267</td>\n",
       "      <td>-2.868026</td>\n",
       "      <td>10014</td>\n",
       "      <td>*COCH2OH</td>\n",
       "    </tr>\n",
       "    <tr>\n",
       "      <th>10534</th>\n",
       "      <td>10017_-1</td>\n",
       "      <td>-3.603502</td>\n",
       "      <td>10017</td>\n",
       "      <td>*CH2*O</td>\n",
       "    </tr>\n",
       "    <tr>\n",
       "      <th>...</th>\n",
       "      <td>...</td>\n",
       "      <td>...</td>\n",
       "      <td>...</td>\n",
       "      <td>...</td>\n",
       "    </tr>\n",
       "    <tr>\n",
       "      <th>2100</th>\n",
       "      <td>996_174</td>\n",
       "      <td>-4.008671</td>\n",
       "      <td>996</td>\n",
       "      <td>*NH2N(CH3)2</td>\n",
       "    </tr>\n",
       "    <tr>\n",
       "      <th>7281</th>\n",
       "      <td>9972_90</td>\n",
       "      <td>0.521928</td>\n",
       "      <td>9972</td>\n",
       "      <td>*CH</td>\n",
       "    </tr>\n",
       "    <tr>\n",
       "      <th>858</th>\n",
       "      <td>9986_-1</td>\n",
       "      <td>-1.160724</td>\n",
       "      <td>9986</td>\n",
       "      <td>*OCH3</td>\n",
       "    </tr>\n",
       "    <tr>\n",
       "      <th>10837</th>\n",
       "      <td>9987_-1</td>\n",
       "      <td>-0.469078</td>\n",
       "      <td>9987</td>\n",
       "      <td>*COCH2OH</td>\n",
       "    </tr>\n",
       "    <tr>\n",
       "      <th>4378</th>\n",
       "      <td>9988_170</td>\n",
       "      <td>-4.917901</td>\n",
       "      <td>9988</td>\n",
       "      <td>*C*C</td>\n",
       "    </tr>\n",
       "  </tbody>\n",
       "</table>\n",
       "<p>11508 rows × 4 columns</p>\n",
       "</div>"
      ],
      "text/plain": [
       "              id    target    sid          ads\n",
       "7213       0_100  0.172517      0         *C*C\n",
       "8628   10005_122 -0.995634  10005        *CHOH\n",
       "1816   10009_220 -3.775969  10009  *NH2N(CH3)2\n",
       "3377   10014_267 -2.868026  10014     *COCH2OH\n",
       "10534   10017_-1 -3.603502  10017       *CH2*O\n",
       "...          ...       ...    ...          ...\n",
       "2100     996_174 -4.008671    996  *NH2N(CH3)2\n",
       "7281     9972_90  0.521928   9972          *CH\n",
       "858      9986_-1 -1.160724   9986        *OCH3\n",
       "10837    9987_-1 -0.469078   9987     *COCH2OH\n",
       "4378    9988_170 -4.917901   9988         *C*C\n",
       "\n",
       "[11508 rows x 4 columns]"
      ]
     },
     "execution_count": 10,
     "metadata": {},
     "output_type": "execute_result"
    }
   ],
   "source": [
    "sorted_df = df_data.sort_values(by='sid')\n",
    "sorted_df"
   ]
  },
  {
   "cell_type": "code",
   "execution_count": 12,
   "metadata": {},
   "outputs": [
    {
     "data": {
      "text/plain": [
       "0        False\n",
       "1        False\n",
       "2        False\n",
       "3        False\n",
       "4        False\n",
       "         ...  \n",
       "11503    False\n",
       "11504    False\n",
       "11505    False\n",
       "11506    False\n",
       "11507    False\n",
       "Name: sid, Length: 11508, dtype: bool"
      ]
     },
     "execution_count": 12,
     "metadata": {},
     "output_type": "execute_result"
    }
   ],
   "source": [
    "df_data['sid'].duplicated()"
   ]
  },
  {
   "cell_type": "code",
   "execution_count": 11,
   "metadata": {},
   "outputs": [
    {
     "data": {
      "text/plain": [
       "0"
      ]
     },
     "execution_count": 11,
     "metadata": {},
     "output_type": "execute_result"
    }
   ],
   "source": [
    "duplicate_sids_count = df_data['sid'].duplicated().sum()\n",
    "duplicate_sids_count"
   ]
  },
  {
   "cell_type": "markdown",
   "metadata": {},
   "source": [
    "# Catalyst"
   ]
  },
  {
   "cell_type": "code",
   "execution_count": 51,
   "metadata": {},
   "outputs": [],
   "source": [
    "def determine_catalyst(catalyst, target_elements=['Zr', 'Ni', 'Al']):\n",
    "    \"\"\"\n",
    "    Determine whether \"Zr\", \"Ni\", \"Al\" are included in the catalyst.\n",
    "\n",
    "    Parameters:\n",
    "    catalyst (str): The catalyst string to be evaluated.\n",
    "\n",
    "    Returns:\n",
    "    str: \"Zr\", \"Ni\", \"Al\" if the respective element is in the catalyst,\n",
    "         otherwise return None.\n",
    "    \"\"\"\n",
    "    \n",
    "    for element in target_elements:\n",
    "        if element in catalyst:\n",
    "            return element\n",
    "    return \"Others\""
   ]
  },
  {
   "cell_type": "code",
   "execution_count": 52,
   "metadata": {},
   "outputs": [],
   "source": [
    "model = 'gnoc'\n",
    "data_path = f'/home/jovyan/shared-scratch/jhoon/ocp2023/clip_data/oc20dense_eval_{model}_relaxed.pkl'\n",
    "df_data = pd.read_pickle(data_path)"
   ]
  },
  {
   "cell_type": "code",
   "execution_count": 53,
   "metadata": {},
   "outputs": [
    {
     "name": "stdout",
     "output_type": "stream",
     "text": [
      "duplicate:  0\n"
     ]
    },
    {
     "data": {
      "text/html": [
       "<div>\n",
       "<style scoped>\n",
       "    .dataframe tbody tr th:only-of-type {\n",
       "        vertical-align: middle;\n",
       "    }\n",
       "\n",
       "    .dataframe tbody tr th {\n",
       "        vertical-align: top;\n",
       "    }\n",
       "\n",
       "    .dataframe thead th {\n",
       "        text-align: right;\n",
       "    }\n",
       "</style>\n",
       "<table border=\"1\" class=\"dataframe\">\n",
       "  <thead>\n",
       "    <tr style=\"text-align: right;\">\n",
       "      <th></th>\n",
       "      <th>id</th>\n",
       "      <th>target</th>\n",
       "      <th>category</th>\n",
       "    </tr>\n",
       "  </thead>\n",
       "  <tbody>\n",
       "    <tr>\n",
       "      <th>0</th>\n",
       "      <td>85487_-1</td>\n",
       "      <td>-0.559899</td>\n",
       "      <td>Others</td>\n",
       "    </tr>\n",
       "    <tr>\n",
       "      <th>1</th>\n",
       "      <td>39118_110</td>\n",
       "      <td>-1.130786</td>\n",
       "      <td>Zr</td>\n",
       "    </tr>\n",
       "    <tr>\n",
       "      <th>2</th>\n",
       "      <td>2797_-1</td>\n",
       "      <td>-1.337591</td>\n",
       "      <td>Others</td>\n",
       "    </tr>\n",
       "    <tr>\n",
       "      <th>3</th>\n",
       "      <td>64221_170</td>\n",
       "      <td>0.885938</td>\n",
       "      <td>Others</td>\n",
       "    </tr>\n",
       "    <tr>\n",
       "      <th>4</th>\n",
       "      <td>44017_160</td>\n",
       "      <td>-2.090978</td>\n",
       "      <td>Ni</td>\n",
       "    </tr>\n",
       "    <tr>\n",
       "      <th>...</th>\n",
       "      <td>...</td>\n",
       "      <td>...</td>\n",
       "      <td>...</td>\n",
       "    </tr>\n",
       "    <tr>\n",
       "      <th>11503</th>\n",
       "      <td>55536_186</td>\n",
       "      <td>-2.349694</td>\n",
       "      <td>Ni</td>\n",
       "    </tr>\n",
       "    <tr>\n",
       "      <th>11504</th>\n",
       "      <td>84011_298</td>\n",
       "      <td>-2.974431</td>\n",
       "      <td>Zr</td>\n",
       "    </tr>\n",
       "    <tr>\n",
       "      <th>11505</th>\n",
       "      <td>64542_152</td>\n",
       "      <td>0.239314</td>\n",
       "      <td>Others</td>\n",
       "    </tr>\n",
       "    <tr>\n",
       "      <th>11506</th>\n",
       "      <td>71806_221</td>\n",
       "      <td>-1.262554</td>\n",
       "      <td>Ni</td>\n",
       "    </tr>\n",
       "    <tr>\n",
       "      <th>11507</th>\n",
       "      <td>13194_211</td>\n",
       "      <td>0.438572</td>\n",
       "      <td>Others</td>\n",
       "    </tr>\n",
       "  </tbody>\n",
       "</table>\n",
       "<p>11508 rows × 3 columns</p>\n",
       "</div>"
      ],
      "text/plain": [
       "              id    target category\n",
       "0       85487_-1 -0.559899   Others\n",
       "1      39118_110 -1.130786       Zr\n",
       "2        2797_-1 -1.337591   Others\n",
       "3      64221_170  0.885938   Others\n",
       "4      44017_160 -2.090978       Ni\n",
       "...          ...       ...      ...\n",
       "11503  55536_186 -2.349694       Ni\n",
       "11504  84011_298 -2.974431       Zr\n",
       "11505  64542_152  0.239314   Others\n",
       "11506  71806_221 -1.262554       Ni\n",
       "11507  13194_211  0.438572   Others\n",
       "\n",
       "[11508 rows x 3 columns]"
      ]
     },
     "execution_count": 53,
     "metadata": {},
     "output_type": "execute_result"
    }
   ],
   "source": [
    "df_data['sid'] = df_data['id'].apply(lambda x: x.split('_')[0])\n",
    "df_data['frame'] = df_data['id'].apply(lambda x: x.split('_')[1])\n",
    "\n",
    "# check whether there are duplicated sids\n",
    "duplicate_sids_count = df_data['sid'].duplicated().sum()\n",
    "print('duplicate: ', duplicate_sids_count)\n",
    "\n",
    "# Extracting 'catalyst' from 'text' using apply()\n",
    "df_data['catalyst'] = df_data['text'].apply(lambda x: x.split('</s>')[1].split(' (')[0])\n",
    "df_data['category'] = df_data['catalyst'].apply(determine_catalyst)\n",
    "\n",
    "\n",
    "df_data = df_data.drop(columns=['text', 'chg_emb', 'sid', 'frame', 'catalyst'])\n",
    "df_data"
   ]
  },
  {
   "cell_type": "code",
   "execution_count": 54,
   "metadata": {},
   "outputs": [
    {
     "data": {
      "text/plain": [
       "Others    6883\n",
       "Zr        2358\n",
       "Ni        2026\n",
       "Al         241\n",
       "Name: category, dtype: int64"
      ]
     },
     "execution_count": 54,
     "metadata": {},
     "output_type": "execute_result"
    }
   ],
   "source": [
    "category_counts = df_data['category'].value_counts()\n",
    "\n",
    "category_counts"
   ]
  },
  {
   "cell_type": "code",
   "execution_count": 28,
   "metadata": {},
   "outputs": [
    {
     "data": {
      "text/plain": [
       "0"
      ]
     },
     "execution_count": 28,
     "metadata": {},
     "output_type": "execute_result"
    }
   ],
   "source": [
    "# check whether there are duplicated sids\n",
    "duplicate_sids_count = df_data['sid'].duplicated().sum()\n",
    "duplicate_sids_count"
   ]
  },
  {
   "cell_type": "code",
   "execution_count": null,
   "metadata": {},
   "outputs": [],
   "source": [
    "sid_list, ads_list = [], []\n",
    "for i in range(len(df_data)):\n",
    "    sid = df_data['id'].iloc[i].split('_')[0]\n",
    "    ads = mapping[int(sid)]['adsorbate']\n",
    "    sid_list.append(sid)\n",
    "    ads_list.append(ads)\n",
    "df_data['sid'] = sid_list\n",
    "df_data['ads'] = ads_list\n",
    "df_data = df_data.drop(columns=['text', 'chg_emb'])"
   ]
  }
 ],
 "metadata": {
  "kernelspec": {
   "display_name": "base",
   "language": "python",
   "name": "python3"
  },
  "language_info": {
   "codemirror_mode": {
    "name": "ipython",
    "version": 3
   },
   "file_extension": ".py",
   "mimetype": "text/x-python",
   "name": "python",
   "nbconvert_exporter": "python",
   "pygments_lexer": "ipython3",
   "version": "3.9.15"
  }
 },
 "nbformat": 4,
 "nbformat_minor": 2
}
