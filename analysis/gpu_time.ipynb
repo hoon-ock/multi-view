{
 "cells": [
  {
   "cell_type": "code",
   "execution_count": 2,
   "metadata": {},
   "outputs": [],
   "source": [
    "import torch\n",
    "import os"
   ]
  },
  {
   "cell_type": "code",
   "execution_count": 5,
   "metadata": {},
   "outputs": [],
   "source": [
    "path = \"/home/jovyan/shared-scratch/jhoon/ocp2023/checkpoints/\"\n",
    "dir_mapping = {\"baseline\":path+\"direct_regress/rebase3-vanilla-catberta_1223_1537\",\n",
    "                \"ca\":path+\"direct_regress/rebase3-da-catberta_1224_1518\",\n",
    "                \"gap\":path+\"clip_regress/rebase-gap-catberta_1221_2208\",\n",
    "                \"ca_gap\":path+\"clip_regress/rebase-da-gap-catberta_1226_0542\",}\n"
   ]
  },
  {
   "cell_type": "code",
   "execution_count": 17,
   "metadata": {},
   "outputs": [
    {
     "name": "stdout",
     "output_type": "stream",
     "text": [
      "gap enhancement\n",
      "7 epochs\n",
      "0.5337500000000001 GPU-days\n"
     ]
    }
   ],
   "source": [
    "enhancement = \"gap\"\n",
    "ckpt_dir = dir_mapping[enhancement]\n",
    "ckpt = torch.load(os.path.join(ckpt_dir, \"checkpoint.pt\"))\n",
    "\n",
    "epoch = ckpt['epoch']\n",
    "epoch_time_mapping = {\"baseline\": 1.75, \"ca\": 1.83, \"gap\": 1.75, \"ca_gap\": 1.83}\n",
    "GPU_TIME = epoch * 1.83 / 24\n",
    "print(f\"{enhancement} enhancement\")\n",
    "print(f\"{epoch} epochs\")\n",
    "print(f\"{GPU_TIME} GPU-days\")"
   ]
  },
  {
   "cell_type": "code",
   "execution_count": null,
   "metadata": {},
   "outputs": [],
   "source": []
  }
 ],
 "metadata": {
  "kernelspec": {
   "display_name": "base",
   "language": "python",
   "name": "python3"
  },
  "language_info": {
   "codemirror_mode": {
    "name": "ipython",
    "version": 3
   },
   "file_extension": ".py",
   "mimetype": "text/x-python",
   "name": "python",
   "nbconvert_exporter": "python",
   "pygments_lexer": "ipython3",
   "version": "3.9.15"
  }
 },
 "nbformat": 4,
 "nbformat_minor": 2
}
